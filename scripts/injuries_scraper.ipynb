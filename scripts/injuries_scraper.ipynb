{
 "cells": [
  {
   "cell_type": "markdown",
   "metadata": {},
   "source": [
    "# Data Acquisition for Injury Data from Transfermarkt"
   ]
  },
  {
   "cell_type": "markdown",
   "metadata": {},
   "source": [
    "This notebook demonstrates how injury data for a players career is scraped from [Transfermarkt](https://www.transfermarkt.com/) using BeautifulSoup and Selenium. It is used to retreive all injury periods for the players Lionel Messi & Christiano Ronaldo from the following pages:\n",
    "\n",
    "- [Lionel Messi Injury Data](https://www.transfermarkt.at/lionel-messi/verletzungen/spieler/28003/plus/1)\n",
    "- [Christiano Ronaldo Injury Data](https://www.transfermarkt.at/cristiano-ronaldo/verletzungen/spieler/8198/plus/1)"
   ]
  },
  {
   "cell_type": "code",
   "execution_count": 1,
   "metadata": {},
   "outputs": [],
   "source": [
    "import requests \n",
    "from bs4 import BeautifulSoup\n",
    "from selenium import webdriver\n",
    "from selenium.webdriver.common.by import By\n",
    "from selenium.webdriver.support.ui import WebDriverWait\n",
    "from selenium.webdriver.support import expected_conditions as EC\n",
    "import pandas as pd\n",
    "import re\n",
    "import os"
   ]
  },
  {
   "cell_type": "code",
   "execution_count": 2,
   "metadata": {},
   "outputs": [],
   "source": [
    "# Header used to perform http request data from web server.\n",
    "headers = {'User-Agent': 'Mozilla/5.0 (X11; Linux x86_64} AppleWebKit/537.36 (KHTML, like Gecko) Chrome/47.0.2526.106 Safari/537.36'}"
   ]
  },
  {
   "cell_type": "markdown",
   "metadata": {},
   "source": [
    "The data for the injury table will have the following structure:\n",
    "\n",
    "```\n",
    "{\n",
    "    \"saison\",\n",
    "    \"injury_description\",\n",
    "    \"start_date\",\n",
    "    \"end_date\",\n",
    "    \"days\",\n",
    "    \"missed_games\"\n",
    "}\n",
    "```\n",
    "\n",
    "The first step of the data aquisition is to create a function that reads a single row of the injuries table and a function to read all rows from the injuries table."
   ]
  },
  {
   "cell_type": "code",
   "execution_count": 3,
   "metadata": {},
   "outputs": [],
   "source": [
    "import time\n",
    "\n",
    "def getInjuryDataForPlayer(page):\n",
    "    \"\"\"\n",
    "    This function opens a transfermarkt page and reads the data from an injuries table.\n",
    "    The table is split into multiple pages, which have to be clicked to interact.\n",
    "    Therefore the page has to be navigated using selenium.\n",
    "    Args:\n",
    "        page: Page contianing the injury data.\n",
    "    \n",
    "    Returns:\n",
    "        injury_table: List containing all rows from the injuries table for a player.\n",
    "    \"\"\"\n",
    "    driver = webdriver.Chrome()\n",
    "    driver.get(page)\n",
    "    initial_source = driver.page_source\n",
    "\n",
    "    # check for correct iframe\n",
    "    iframes = driver.find_elements(By.TAG_NAME, \"iframe\")\n",
    "    print(f\"Number of iframes found: {len(iframes)}\")\n",
    "    driver.switch_to.frame(iframes[1])\n",
    "\n",
    "    # get cookies button and accept\n",
    "    try:\n",
    "        wait = WebDriverWait(driver, 10)\n",
    "        buttons = driver.find_elements(By.XPATH, \"//button[@title='Zustimmen & weiter']\")\n",
    "        # go through all buttons (should be only 1) and click\n",
    "        for button in buttons:\n",
    "            button = WebDriverWait(driver, 10).until(\n",
    "                EC.element_to_be_clickable(buttons[0])  # Assuming you want the first button\n",
    "            )\n",
    "            print(\"title Name:\", button.get_attribute(\"title\"))  # Prints the button's class\n",
    "            button.click()\n",
    "    except Exception as e:\n",
    "        print(\"Failed to click the button:\", (e))\n",
    "\n",
    "\n",
    "    WebDriverWait(driver, 4)\n",
    "\n",
    "    # init data\n",
    "    injury_tables = []\n",
    "    notLastPage = True\n",
    "    while(notLastPage):\n",
    "        # get new source (i dont know but when this is removed the program does not work)\n",
    "        new_source  = driver.page_source\n",
    "        if initial_source != new_source:\n",
    "            print(\"Dynamic content was loaded.\")\n",
    "\n",
    "        # load table using soup\n",
    "        html = new_source\n",
    "        pageSoup = BeautifulSoup(html, \"html.parser\")\n",
    "        table = pageSoup.find_all(\"table\")\n",
    "        injury_tables.append(table[0])\n",
    "        # try to get nexdt button and click\n",
    "        # if no button available, then its the last page\n",
    "        try:\n",
    "            elements = driver.find_elements(By.XPATH, \"//a[@title='Zur naechsten Seite']\")\n",
    "            print(f\"Found {len(elements)} <a> tags.\")\n",
    "            for e in elements:\n",
    "                e.click()\n",
    "            if (len(elements) == 0):\n",
    "                notLastPage = False\n",
    "        except:\n",
    "            # stop the loop\n",
    "            notLastPage = False\n",
    "            \n",
    "        # needed for timing reasons\n",
    "        time.sleep(2)\n",
    "    return injury_tables"
   ]
  },
  {
   "cell_type": "code",
   "execution_count": 4,
   "metadata": {},
   "outputs": [
    {
     "name": "stdout",
     "output_type": "stream",
     "text": [
      "Number of iframes found: 2\n",
      "title Name: Zustimmen & weiter\n",
      "Dynamic content was loaded.\n",
      "Found 1 <a> tags.\n",
      "Dynamic content was loaded.\n",
      "Found 1 <a> tags.\n",
      "Dynamic content was loaded.\n",
      "Found 1 <a> tags.\n",
      "Dynamic content was loaded.\n",
      "Found 0 <a> tags.\n"
     ]
    }
   ],
   "source": [
    "# load data for messi\n",
    "page_messi = \"https://www.transfermarkt.at/lionel-messi/verletzungen/spieler/28003/plus/1\"\n",
    "injury_tables_messi = getInjuryDataForPlayer(page_messi)"
   ]
  },
  {
   "cell_type": "code",
   "execution_count": 5,
   "metadata": {},
   "outputs": [
    {
     "name": "stdout",
     "output_type": "stream",
     "text": [
      "Number of iframes found: 2\n",
      "title Name: Zustimmen & weiter\n",
      "Dynamic content was loaded.\n",
      "Found 1 <a> tags.\n",
      "Dynamic content was loaded.\n",
      "Found 0 <a> tags.\n"
     ]
    }
   ],
   "source": [
    "# load data for ronaldo\n",
    "page_ronaldo = \"https://www.transfermarkt.at/cristiano-ronaldo/verletzungen/spieler/8198/plus/1\"\n",
    "injury_tables_ronaldo = getInjuryDataForPlayer(page_ronaldo)"
   ]
  },
  {
   "cell_type": "code",
   "execution_count": 6,
   "metadata": {},
   "outputs": [],
   "source": [
    "def getInjuryRow(row):\n",
    "    \"\"\"\n",
    "    This function reads the data from a single row of an injuries table.\n",
    "    Args:\n",
    "        row: Row of the injuries table.\n",
    "    \n",
    "    Returns:\n",
    "        injury: Data representation of the row. \n",
    "    \"\"\"\n",
    "    injury = {}\n",
    "\n",
    "    # get saison\n",
    "    saison_tag = row.find_next(\"td\")\n",
    "    if saison_tag:\n",
    "        injury[\"saison\"] = saison_tag.text.strip()\n",
    "\n",
    "    # get injury description\n",
    "    injury_tag = saison_tag.find_next()\n",
    "    if injury_tag:\n",
    "        # exclude running injuries\n",
    "        if (injury_tag.get(\"class\", \"No alt attribute found\") != ['hauptlink', 'bg_rot_20']):\n",
    "            injury[\"injury_description\"] = injury_tag.text.strip()\n",
    "\n",
    "    # get start date of injury\n",
    "    start_tag = injury_tag.find_next()\n",
    "    if start_tag:\n",
    "        injury[\"start_date\"] = start_tag.text.strip()\n",
    "\n",
    "    # get end date of injury\n",
    "    end_tag = start_tag.find_next()\n",
    "    if end_tag:\n",
    "        injury[\"end_date\"] = end_tag.text.strip()\n",
    "\n",
    "    # get day amount of injury\n",
    "    days_tag = end_tag.find_next()\n",
    "    if days_tag:\n",
    "        injury[\"days\"] = int(days_tag.text.strip().replace(\" Tage\", \"\"))\n",
    "    \n",
    "    # get amount of missed games\n",
    "    missed_games_tag = days_tag.find_next()\n",
    "    if missed_games_tag:\n",
    "        span_tag = missed_games_tag.find(\"span\")\n",
    "        if (span_tag == None): # span could not exist\n",
    "            injury[\"missed_games\"] = missed_games_tag.text.strip()\n",
    "        else:\n",
    "            injury[\"missed_games\"] = span_tag.text.strip()\n",
    "    if (injury[\"missed_games\"] == \"-\"):\n",
    "        injury[\"missed_games\"] = 0\n",
    "    else:\n",
    "        injury[\"missed_games\"] = int(injury[\"missed_games\"])\n",
    "\n",
    "    return injury"
   ]
  },
  {
   "cell_type": "code",
   "execution_count": 7,
   "metadata": {},
   "outputs": [],
   "source": [
    "def loadInjuryDataForPlayer(table):\n",
    "    \"\"\"\n",
    "    Lodas the injury data from the table into a list.\n",
    "    Args:\n",
    "        table: Injury table.\n",
    "    \n",
    "    Returns:\n",
    "        injury: complete list of Data representation of the table. \n",
    "    \"\"\"\n",
    "    rows = table.find_all(\"tr\")\n",
    "    injury_data = []\n",
    "    for i in range(1,len(rows)):\n",
    "        # exclude currently ongoing injuries\n",
    "        if (rows[i].find(class_=\"bg_rot_20\")):\n",
    "            continue\n",
    "        injury_row = getInjuryRow(rows[i])\n",
    "        injury_data.append(injury_row)\n",
    "    return injury_data\n"
   ]
  },
  {
   "cell_type": "code",
   "execution_count": 8,
   "metadata": {},
   "outputs": [],
   "source": [
    "# this function loads the table data into a single dataframe.\n",
    "def createDataFrameForTables(tables):\n",
    "    \"\"\"\n",
    "    Creates a dataframe from the injury table data.\n",
    "    Args:\n",
    "        tables: list of table data.\n",
    "    \n",
    "    Returns:\n",
    "        df: dataframe of the data.\n",
    "    \"\"\"\n",
    "    rows = []\n",
    "    for table in tables:\n",
    "        data = loadInjuryDataForPlayer(table)\n",
    "        for injury in data:\n",
    "            df_row = {\n",
    "                    'saison': injury['saison'],\n",
    "                    'injury_description': injury['injury_description'],\n",
    "                    'start_date': injury['start_date'],\n",
    "                    'end_date': injury['end_date'],\n",
    "                    'days': injury['days'],\n",
    "                    'missed_games': injury['missed_games']\n",
    "                }\n",
    "            rows.append(df_row)\n",
    "\n",
    "    df = pd.DataFrame(rows)\n",
    "    df[\"start_date\"] = pd.to_datetime(df[\"start_date\"], format=\"%d.%m.%Y\")\n",
    "    df[\"end_date\"] = pd.to_datetime(df[\"end_date\"], format=\"%d.%m.%Y\")\n",
    "    return df"
   ]
  },
  {
   "cell_type": "markdown",
   "metadata": {},
   "source": [
    "Now we can create dataframes for each player, combine them into a single dataframe and store them  as a .csv file."
   ]
  },
  {
   "cell_type": "code",
   "execution_count": 9,
   "metadata": {},
   "outputs": [],
   "source": [
    "# create dataframe and correct \n",
    "df_ronaldo = createDataFrameForTables(injury_tables_ronaldo)\n",
    "df_messi = createDataFrameForTables(injury_tables_messi)"
   ]
  },
  {
   "cell_type": "code",
   "execution_count": 11,
   "metadata": {},
   "outputs": [],
   "source": [
    "# Combine the datasets\n",
    "df_messi[\"player_name\"] = \"Lionel Messi\"\n",
    "df_ronaldo[\"player_name\"] = \"Christiano Ronaldo\"\n",
    "\n",
    "# set player name as first column\n",
    "df = pd.concat([df_messi, df_ronaldo], ignore_index=True)\n",
    "columns = ['player_name'] + [col for col in df.columns if col != 'player_name']\n",
    "df = df[columns]"
   ]
  },
  {
   "cell_type": "code",
   "execution_count": 12,
   "metadata": {},
   "outputs": [
    {
     "name": "stdout",
     "output_type": "stream",
     "text": [
      "Folder already exists\n"
     ]
    }
   ],
   "source": [
    "# store data\n",
    "folder_name = \"data\"\n",
    "try:\n",
    "    os.makedirs(folder_name, exist_ok=False)\n",
    "    print(\"Folder created for storing goal data\")\n",
    "except Exception:\n",
    "    print(\"Folder already exists\")\n",
    "\n",
    "df.to_csv('./data/' + \"player_injuries.csv\", index=False, encoding=\"utf-8\")"
   ]
  }
 ],
 "metadata": {
  "kernelspec": {
   "display_name": "Python 3",
   "language": "python",
   "name": "python3"
  },
  "language_info": {
   "codemirror_mode": {
    "name": "ipython",
    "version": 3
   },
   "file_extension": ".py",
   "mimetype": "text/x-python",
   "name": "python",
   "nbconvert_exporter": "python",
   "pygments_lexer": "ipython3",
   "version": "3.11.2"
  }
 },
 "nbformat": 4,
 "nbformat_minor": 2
}
