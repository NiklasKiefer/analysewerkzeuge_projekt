{
 "cells": [
  {
   "cell_type": "markdown",
   "metadata": {},
   "source": [
    "# Data Acquisition for Club Goal Data from Transfermarkt"
   ]
  },
  {
   "cell_type": "markdown",
   "metadata": {},
   "source": [
    "This notebook demonstrates how goal data for a players club career is scraped from [Transfermarkt](https://www.transfermarkt.com/) using BeautifulSoup. It is used to retreive all club goals for the players Lionel Messi & Christiano Ronaldo from the following pages:\n",
    "\n",
    "- [Lionel Messi Club Goals](https://www.transfermarkt.at/lionel-messi/alletore/spieler/28003)\n",
    "- [Christiano Ronaldo CLub Goals](https://www.transfermarkt.com/cristiano-ronaldo/alletore/spieler/8198)"
   ]
  },
  {
   "cell_type": "code",
   "execution_count": 1,
   "metadata": {},
   "outputs": [],
   "source": [
    "import requests \n",
    "from bs4 import BeautifulSoup\n",
    "import pandas as pd\n",
    "import re\n",
    "import os"
   ]
  },
  {
   "cell_type": "code",
   "execution_count": 2,
   "metadata": {},
   "outputs": [],
   "source": [
    "# Header used to perform http request data from web server.\n",
    "headers = {'User-Agent': 'Mozilla/5.0 (X11; Linux x86_64} AppleWebKit/537.36 (KHTML, like Gecko) Chrome/47.0.2526.106 Safari/537.36'}"
   ]
  },
  {
   "cell_type": "markdown",
   "metadata": {},
   "source": [
    "The resulting data will have this structure, before being converted into a dataframe for every goal.\n",
    "```\n",
    "{\n",
    "    \"game_id\",\n",
    "    \"saison\",\n",
    "    \"league\",\n",
    "    \"gameday\",\n",
    "    \"venue\",\n",
    "    \"team\",\n",
    "    \"team_table_position\",\n",
    "    \"opponent\",\n",
    "    \"opponent-table_position\",\n",
    "    \"result\",\n",
    "    \"player_position\",\n",
    "    \"goals\": {\n",
    "        \"goal_minute\",\n",
    "        \"goal_score\",\n",
    "        \"goal_type\"\n",
    "    }\n",
    "}\n",
    "````\n",
    "\n",
    "The first step is to create a function for reading a table row of the club goal table and another function that reads all rows from the transfermarkt page."
   ]
  },
  {
   "cell_type": "code",
   "execution_count": 3,
   "metadata": {},
   "outputs": [],
   "source": [
    "# this function takes a row from the games played and fetches all relevant game and goal data.\n",
    "def getGoalData(game):\n",
    "    \"\"\"\n",
    "    This function parses the club goal data from a single row \n",
    "\n",
    "    Args:\n",
    "        game: Row containing data for a game of football and goals scored.\n",
    "    \n",
    "    Returns:\n",
    "        player: Scraped data from the row.\n",
    "    \"\"\"\n",
    "    game_data = { }\n",
    "    goal_data = { }\n",
    "\n",
    "    # get saison\n",
    "    a_tag = game.find_next(\"a\")\n",
    "    if a_tag:\n",
    "        h_ref = a_tag.get(\"href\", \"No href available\")\n",
    "        parts = h_ref.split('/')\n",
    "        saison_id = parts[parts.index('saison_id') + 1]\n",
    "        game_data[\"saison\"] = saison_id\n",
    "\n",
    "    # get liga\n",
    "    liga_tag = game.find(\"img\")\n",
    "    if liga_tag:\n",
    "        game_data[\"league\"] = liga_tag.get(\"alt\", \"No alt attribute found\")\n",
    "    else:\n",
    "        print(\"Found second goal in the same game.\")\n",
    "\n",
    "    # get gameday of the season\n",
    "    spieltag_tag = liga_tag.find_next().find(\"a\")\n",
    "    if spieltag_tag:\n",
    "        game_data[\"gameday\"] = spieltag_tag.text.strip()\n",
    "\n",
    "    # get venue where game was played\n",
    "    ort_tag = spieltag_tag.find_next()\n",
    "    if ort_tag:\n",
    "        game_data[\"venue\"]  = ort_tag.text.strip()\n",
    "\n",
    "    # get team for which player played\n",
    "    team_tag = ort_tag.find_next(\"a\")\n",
    "    if team_tag:\n",
    "        game_data[\"team\"]  = team_tag.get(\"title\", \"No team found\")\n",
    "\n",
    "    # get teams table position\n",
    "    team_pos_tag = team_tag.find_next(\"td\") \n",
    "    found = False\n",
    "    # try to find team table position if exists\n",
    "    for child in team_pos_tag.children:\n",
    "        regex = \"\\(([0-9]+)\\.\\)\"\n",
    "        matches = re.findall(regex, child.text.strip())\n",
    "        if len(matches) > 0:\n",
    "            game_data[\"team_table_position\"] = matches[0]\n",
    "            found = True\n",
    "    if not found:\n",
    "        # if not found, set none\n",
    "        game_data[\"team_table_position\"] = None\n",
    "\n",
    "    # get opponent for game played\n",
    "    gegner_tag = team_tag.find_next().find_next(\"img\")\n",
    "    if gegner_tag:\n",
    "        game_data[\"opponent\"] = gegner_tag.get(\"alt\", \"No alt attribute found\")\n",
    "\n",
    "    # get opponent table position\n",
    "    gegner_pos_tag = gegner_tag.find_next(\"span\")\n",
    "    found = False\n",
    "    # try to find opponent table position if exists\n",
    "    for child in gegner_pos_tag.children:\n",
    "        regex = \"\\(([0-9]+)\\.\\)\"\n",
    "        matches = re.findall(regex, child.text.strip())\n",
    "        if len(matches) > 0:\n",
    "            game_data[\"opponent_table_position\"] = matches[0]\n",
    "            found = True\n",
    "    if not found:\n",
    "        # if no table position, set none\n",
    "        game_data[\"opponent_table_position\"] = None\n",
    "\n",
    "    # get end result of the game\n",
    "    ergebnis_tag = gegner_tag.find_next(\"a\").find_next(\"a\")\n",
    "    if ergebnis_tag:\n",
    "        game_data[\"result\"] = ergebnis_tag.text.strip()\n",
    "        game_data[\"game_id\"] = ergebnis_tag.get(\"id\", \"no id available\")\n",
    "        if game_data[\"venue\"] == \"A\":\n",
    "            scoreboard = ergebnis_tag.text.strip().split(\" \")\n",
    "            x, y = map(int, scoreboard[0].split(\":\"))\n",
    "            if x < y:\n",
    "                 x, y = y, x\n",
    "            game_data[\"result\"] = str(x) + \":\" + str(y)\n",
    "            if len(scoreboard) > 2:\n",
    "                game_data[\"result\"] = game_data[\"result\"] + \" \" + scoreboard[2]\n",
    "\n",
    "    # get position played by player\n",
    "    position_tag = ergebnis_tag.find_next(\"a\")\n",
    "    if position_tag:\n",
    "        game_data[\"player_position\"] = position_tag.text.strip()\n",
    "\n",
    "    # get minute in which goal happened\n",
    "    tor_minute_tag = position_tag.find_next(\"td\")\n",
    "    if tor_minute_tag:\n",
    "        goal_data[\"minute\"] = tor_minute_tag.text.strip()\n",
    "\n",
    "    # get score after goal\n",
    "    spielstand_tag = tor_minute_tag.find_next()\n",
    "    if spielstand_tag:\n",
    "        goal_data[\"score\"] = spielstand_tag.text.strip()\n",
    "\n",
    "    # get type of goal\n",
    "    torart_tag = spielstand_tag.find_next()\n",
    "    if torart_tag:\n",
    "        goal_data[\"goal_type\"] = torart_tag.text.strip()\n",
    "    \n",
    "    game_data[\"goals\"] = []\n",
    "    game_data[\"goals\"].append(goal_data)\n",
    "    return game_data"
   ]
  },
  {
   "cell_type": "code",
   "execution_count": 4,
   "metadata": {},
   "outputs": [],
   "source": [
    "def getConsecutiveGoalData(game):\n",
    "    \"\"\"\n",
    "    This function reads a consecutive goal in a game already parsed.\n",
    "    It is needed because transfermarkt uses multiple lines for consecutive goals within the same game.\n",
    "\n",
    "    Args:\n",
    "        game: Row containing data for a game of football and goals scored.\n",
    "    \n",
    "    Returns:\n",
    "        goal_data: Scraped data rom the row.\n",
    "    \"\"\"\n",
    "    goal_data = { }\n",
    "\n",
    "    # get time where\n",
    "    time_tag = game.find(\"td\").find_next()\n",
    "    if (time_tag):\n",
    "        goal_data[\"minute\"] = time_tag.text.strip()\n",
    "\n",
    "    # get score after goal scored\n",
    "    score_tag = time_tag.find_next()\n",
    "    if (score_tag):\n",
    "        goal_data[\"score\"] = score_tag.text.strip()\n",
    "    \n",
    "    # get goal type\n",
    "    goal_type_tag = score_tag.find_next()\n",
    "    if (goal_type_tag):\n",
    "        goal_data[\"goal_type\"] = goal_type_tag.text.strip()\n",
    "\n",
    "    return goal_data"
   ]
  },
  {
   "cell_type": "code",
   "execution_count": 5,
   "metadata": {},
   "outputs": [],
   "source": [
    "def getAllPlayerGoals(page):\n",
    "    \"\"\"\n",
    "    This function reads all scrapes all rows from the goal data table of transfermarkt and parses the data for each row.\n",
    "\n",
    "    Args:\n",
    "        page: Page containing the data to be scraped.\n",
    "    \n",
    "    Returns:\n",
    "        gamesLIst: Scraped data containing all goals in a club career for a player.\n",
    "    \"\"\"\n",
    "    pageTree = requests.get(page, headers=headers)\n",
    "    pageSoup = BeautifulSoup(pageTree.content, 'html.parser')\n",
    "    gamesList = []\n",
    "    # get all rows for the games\n",
    "    games = pageSoup.find_all(\"tr\", class_=True)\n",
    "\n",
    "    # Init Variables to store previous row values from the table.\n",
    "    # because multiple goals can occur in a single game, we need to store the color values of the rows.\n",
    "    # if two consecutive rows have the same color, its the same game.\n",
    "    lastColor = None \n",
    "    lastGame = None\n",
    "\n",
    "    for i in range(len(games)):\n",
    "        game = games[i]\n",
    "        color = game.get(\"class\", \"No alt attribute found\")\n",
    "        # if first game in list\n",
    "        if (lastColor == None or lastGame == None):\n",
    "            lastColor = color\n",
    "            gameData = getGoalData(game)\n",
    "            lastGame = gameData\n",
    "        # if new game\n",
    "        elif (lastColor != color):\n",
    "            gamesList.append(lastGame)\n",
    "            gameData = getGoalData(game)\n",
    "            lastColor = color\n",
    "            lastGame = gameData\n",
    "        # if row has goal in same game\n",
    "        elif (lastColor == color):\n",
    "            goalData = getConsecutiveGoalData(game)\n",
    "            if (lastGame != None):\n",
    "                lastGame[\"goals\"].append(goalData)\n",
    "    # store last game from list.\n",
    "    gamesList.append(lastGame)\n",
    "    print(\"Games loaded.\")\n",
    "    return gamesList\n"
   ]
  },
  {
   "cell_type": "code",
   "execution_count": 6,
   "metadata": {},
   "outputs": [],
   "source": [
    "def createDataFrameFromGames(gamesList):\n",
    "    \"\"\"\n",
    "    This function creates a dataframe from a list of goal data per game.\n",
    "\n",
    "    Args:\n",
    "        gamsList: List of games with details about the goals scored by the player.\n",
    "    \n",
    "    Returns:\n",
    "        df: Converted dataframe.\n",
    "    \"\"\"\n",
    "    # store goals list in dataframe\n",
    "    rows = []\n",
    "    for game in gamesList:\n",
    "        for goal in game['goals']:\n",
    "            row = {\n",
    "                'game_id': game['game_id'],\n",
    "                'saison': game['saison'],\n",
    "                'league': game['league'],\n",
    "                'gameday': game['gameday'],\n",
    "                'venue': game['venue'],\n",
    "                'team': game['team'],\n",
    "                'team_table_position': game['team_table_position'],\n",
    "                'opponent': game['opponent'],\n",
    "                'opponent_table_position': game['opponent_table_position'],\n",
    "                'result': game['result'],\n",
    "                'player_position': game['player_position'],\n",
    "                'goal_minute': goal['minute'],\n",
    "                'goal_score': goal['score'],\n",
    "                'goal_type': goal['goal_type']\n",
    "            }\n",
    "            rows.append(row)\n",
    "\n",
    "    df = pd.DataFrame(rows)\n",
    "    print(\"Dataframes successfully created.\")\n",
    "    return df\n",
    "\n"
   ]
  },
  {
   "cell_type": "code",
   "execution_count": 7,
   "metadata": {},
   "outputs": [],
   "source": [
    "def storeData(df, filename):\n",
    "    \"\"\"\n",
    "    Stores a dataframe with a given name in the data folder.\n",
    "\n",
    "    Args:\n",
    "        df: Dataframe of the player data.\n",
    "        filename: file name of the resulting file.\n",
    "    \n",
    "    Returns:\n",
    "        df: Converted dataframe.\n",
    "    \"\"\"\n",
    "    folder_name = \"data\"\n",
    "    try:\n",
    "        os.makedirs(folder_name, exist_ok=False)\n",
    "        print(\"Folder created for storing goal data\")\n",
    "    except Exception:\n",
    "        print(\"Folder already exists\")\n",
    "\n",
    "    df.to_csv('./data/' + filename, index=False, encoding=\"utf-8\")\n",
    "    print(\"Stored goal data in '\" + filename + \".\")"
   ]
  },
  {
   "cell_type": "markdown",
   "metadata": {},
   "source": [
    "Now we can store the data for each player."
   ]
  },
  {
   "cell_type": "code",
   "execution_count": 8,
   "metadata": {},
   "outputs": [
    {
     "name": "stdout",
     "output_type": "stream",
     "text": [
      "Games loaded.\n",
      "Games loaded.\n"
     ]
    }
   ],
   "source": [
    "# scrape data from web.\n",
    "# lionel messi transfermarkt all club goals list\n",
    "page_messi = \"https://www.transfermarkt.at/lionel-messi/alletore/spieler/28003\"\n",
    "games_messi = getAllPlayerGoals(page_messi)\n",
    "\n",
    "# chirstiano ronaldo transfermarkt all club goals list\n",
    "page_ronaldo = \"https://www.transfermarkt.at/cristiano-ronaldo/alletore/spieler/8198\"\n",
    "games_ronaldo = getAllPlayerGoals(page_ronaldo)"
   ]
  },
  {
   "cell_type": "code",
   "execution_count": 9,
   "metadata": {},
   "outputs": [
    {
     "name": "stdout",
     "output_type": "stream",
     "text": [
      "Dataframes successfully created.\n",
      "Dataframes successfully created.\n"
     ]
    }
   ],
   "source": [
    "# Create dataframes that can be stored as a .csv\n",
    "df_messi = createDataFrameFromGames(games_messi)\n",
    "df_ronaldo = createDataFrameFromGames(games_ronaldo)"
   ]
  },
  {
   "cell_type": "markdown",
   "metadata": {},
   "source": [
    "When looking at the data, it was noticed that data for Messi's B Team Career was part of the dataset, which does not count towards the professional football career in the first league, therefore this data needs to be removed."
   ]
  },
  {
   "cell_type": "code",
   "execution_count": 13,
   "metadata": {},
   "outputs": [],
   "source": [
    "# Messis data contains goals from the B Team of FC Barcelona, which does not count as professional football\n",
    "# therefore, those goals have to be removed.\n",
    "df_messi = df_messi[df_messi[\"team\"] != \"FC Barcelona B\"]"
   ]
  },
  {
   "cell_type": "markdown",
   "metadata": {},
   "source": [
    "Now lets combine the dataframes and store the new one in a seperate file."
   ]
  },
  {
   "cell_type": "code",
   "execution_count": 14,
   "metadata": {},
   "outputs": [],
   "source": [
    "# Combine the datasets\n",
    "df_messi[\"player_name\"] = \"Lionel Messi\"\n",
    "df_ronaldo[\"player_name\"] = \"Christiano Ronaldo\"\n",
    "\n",
    "# set player name as first column\n",
    "df = pd.concat([df_messi, df_ronaldo], ignore_index=True)\n",
    "columns = ['player_name'] + [col for col in df.columns if col != 'player_name']\n",
    "df = df[columns]"
   ]
  },
  {
   "cell_type": "code",
   "execution_count": null,
   "metadata": {},
   "outputs": [],
   "source": [
    "# we also have to split the goal time into regular time and added time for better visualisation\n",
    "df[\"added_time\"] = 0\n",
    "# Convert 'Minute' to a sortable integer using a lambda function\n",
    "df[\"added_time\"] = df[\"goal_minute\"].str.extract(r\"\\+(\\d+)\")[0].fillna(0).astype(int)  # Extract added time\n",
    "df[\"goal_minute\"] = df[\"goal_minute\"].str.split(\"'\").str[0].astype(int)  # Extract main minute\n",
    "df"
   ]
  },
  {
   "cell_type": "code",
   "execution_count": 12,
   "metadata": {},
   "outputs": [
    {
     "name": "stdout",
     "output_type": "stream",
     "text": [
      "Folder already exists\n",
      "Stored goal data in 'player_club_goals.csv.\n"
     ]
    }
   ],
   "source": [
    "# store data\n",
    "storeData(df, \"player_club_goals.csv\")"
   ]
  }
 ],
 "metadata": {
  "kernelspec": {
   "display_name": "Python 3",
   "language": "python",
   "name": "python3"
  },
  "language_info": {
   "codemirror_mode": {
    "name": "ipython",
    "version": 3
   },
   "file_extension": ".py",
   "mimetype": "text/x-python",
   "name": "python",
   "nbconvert_exporter": "python",
   "pygments_lexer": "ipython3",
   "version": "3.11.2"
  }
 },
 "nbformat": 4,
 "nbformat_minor": 2
}
