{
 "cells": [
  {
   "cell_type": "markdown",
   "metadata": {},
   "source": [
    "# Data Acquisition of Best CL Scorer Data from Transfermarkt"
   ]
  },
  {
   "cell_type": "markdown",
   "metadata": {},
   "source": [
    "This notebook demonstrates how the UEFA Champions Leagues best goal scorer data is scraped from [Transfermarkt](https://www.transfermarkt.com)\n",
    "\n",
    "- [Best Goal Scorers of UEFA Champions League](https://www.transfermarkt.com/uefa-champions-league/ewigetorschuetzenliste/pokalwettbewerb/CL/land_id/0/saisonIdVon/1955/saisonIdBis/2024)"
   ]
  },
  {
   "cell_type": "code",
   "execution_count": 2,
   "metadata": {},
   "outputs": [],
   "source": [
    "import requests \n",
    "from bs4 import BeautifulSoup\n",
    "import pandas as pd\n",
    "import re\n",
    "import os"
   ]
  },
  {
   "cell_type": "code",
   "execution_count": 3,
   "metadata": {},
   "outputs": [],
   "source": [
    "# Header used to perform http request data from web server.\n",
    "headers = {'User-Agent': 'Mozilla/5.0 (X11; Linux x86_64} AppleWebKit/537.36 (KHTML, like Gecko) Chrome/47.0.2526.106 Safari/537.36'}"
   ]
  },
  {
   "cell_type": "markdown",
   "metadata": {},
   "source": [
    "This is the structure of the top scorer table:\n",
    "\n",
    "```\n",
    "{\n",
    "    name,\n",
    "    seasons,\n",
    "    appearances,\n",
    "    minutes_played,\n",
    "    goals\n",
    "}\n",
    "```\n",
    "\n",
    "In the first step we need to create a function that reads all top scorers from the UEFA Champions League's top scorer table of transfermarkt.com, and a function that parses the data from a single row so that we can store the information in a dataframe."
   ]
  },
  {
   "cell_type": "code",
   "execution_count": 54,
   "metadata": {},
   "outputs": [],
   "source": [
    "def getRowData(row):\n",
    "    \"\"\"\n",
    "    This function parses the data from a single row of the uefa cl top scorer table.\n",
    "\n",
    "    Args:\n",
    "        row: Table row\n",
    "    \n",
    "    Returns:\n",
    "        player: Information about the player in the uefa cl top scorer list.\n",
    "    \"\"\"\n",
    "    player = {}\n",
    "\n",
    "    #get player name\n",
    "    init_tag = row.find_next(\"a\")\n",
    "    if (not init_tag):\n",
    "        return None\n",
    "\n",
    "    # get name tag\n",
    "    name_tag = init_tag.find_next(\"td\").find_next(\"a\")\n",
    "    if (name_tag):\n",
    "        player[\"name\"] = name_tag.get(\"title\", \"No title available\")\n",
    "    \n",
    "    \n",
    "    club_tag = name_tag.find_next(\"td\").find_next(\"td\").find_next(\"td\") # only used to find appearances tag\n",
    "    if not club_tag:\n",
    "        return None\n",
    "    age_tag = club_tag.find_next(\"td\") # only used to find appearances tag\n",
    "    if not age_tag:\n",
    "        return None\n",
    "    \n",
    "    # get amount of played seasons\n",
    "    seasons_tag = age_tag.find_next(\"td\")\n",
    "    if (seasons_tag):\n",
    "        player[\"seasons\"] = int(seasons_tag.text.strip())\n",
    "\n",
    "    \n",
    "    # get appearances\n",
    "    appearance_tag = seasons_tag.find_next(\"td\")\n",
    "    if (appearance_tag):\n",
    "        player[\"appearances\"] = int(appearance_tag.text.strip())\n",
    "\n",
    "    # get goal amount\n",
    "    goals_tag = appearance_tag.find_next(\"td\")\n",
    "    if (goals_tag):\n",
    "        player[\"goals\"] = int(goals_tag.text.strip())\n",
    "\n",
    "    return player"
   ]
  },
  {
   "cell_type": "code",
   "execution_count": 52,
   "metadata": {},
   "outputs": [],
   "source": [
    "def getTopPlayers():\n",
    "    \"\"\"\n",
    "    This function reads the information of the uefa cl top scorer table and returns each row.\n",
    "    \n",
    "    Returns:\n",
    "        title_data: List containing the all time top scorers of the UEFA Champions League.\n",
    "    \"\"\"\n",
    "    page = \"https://www.transfermarkt.com/uefa-champions-league/ewigetorschuetzenliste/pokalwettbewerb/CL/land_id/0/saisonIdVon/1955/saisonIdBis/2024\"\n",
    "    pageTree = requests.get(page, headers=headers)\n",
    "    pageSoup = BeautifulSoup(pageTree.content, 'html.parser')\n",
    "    top_players = []\n",
    "    table = pageSoup.find(\"table\", class_=\"items\")\n",
    "    if not table:\n",
    "        return None\n",
    "    tbody = table.find_next(\"tbody\")\n",
    "    if not tbody:\n",
    "        return None\n",
    "\n",
    "    rows = tbody.contents\n",
    "\n",
    "    for row in rows[1::2]:  # No iterations because the slice is empty\n",
    "        player = getRowData(row)\n",
    "        top_players.append(player)\n",
    "    \n",
    "    return top_players\n"
   ]
  },
  {
   "cell_type": "code",
   "execution_count": 56,
   "metadata": {},
   "outputs": [
    {
     "data": {
      "text/plain": [
       "[{'name': 'Cristiano Ronaldo',\n",
       "  'seasons': 19,\n",
       "  'appearances': 183,\n",
       "  'goals': 140},\n",
       " {'name': 'Lionel Messi', 'seasons': 19, 'appearances': 163, 'goals': 129},\n",
       " {'name': 'Robert Lewandowski',\n",
       "  'seasons': 14,\n",
       "  'appearances': 126,\n",
       "  'goals': 101},\n",
       " {'name': 'Karim Benzema', 'seasons': 19, 'appearances': 152, 'goals': 90},\n",
       " {'name': 'Raúl', 'seasons': 15, 'appearances': 142, 'goals': 71},\n",
       " {'name': 'Ruud van Nistelrooy',\n",
       "  'seasons': 11,\n",
       "  'appearances': 73,\n",
       "  'goals': 56},\n",
       " {'name': 'Thomas Müller', 'seasons': 17, 'appearances': 156, 'goals': 55},\n",
       " {'name': 'Kylian Mbappé', 'seasons': 9, 'appearances': 79, 'goals': 50},\n",
       " {'name': 'Thierry Henry', 'seasons': 13, 'appearances': 112, 'goals': 50},\n",
       " {'name': 'Alfredo di Stéfano', 'seasons': 9, 'appearances': 58, 'goals': 49},\n",
       " {'name': 'Zlatan Ibrahimović',\n",
       "  'seasons': 16,\n",
       "  'appearances': 124,\n",
       "  'goals': 48},\n",
       " {'name': 'Andriy Shevchenko', 'seasons': 12, 'appearances': 100, 'goals': 48},\n",
       " {'name': 'Mohamed Salah', 'seasons': 10, 'appearances': 85, 'goals': 46},\n",
       " {'name': 'Filippo Inzaghi', 'seasons': 11, 'appearances': 81, 'goals': 46},\n",
       " {'name': 'Erling Haaland', 'seasons': 6, 'appearances': 45, 'goals': 46},\n",
       " {'name': 'Eusébio', 'seasons': 11, 'appearances': 65, 'goals': 46},\n",
       " {'name': 'Didier Drogba', 'seasons': 12, 'appearances': 92, 'goals': 44},\n",
       " {'name': 'Neymar', 'seasons': 10, 'appearances': 81, 'goals': 43},\n",
       " {'name': 'Alessandro Del Piero',\n",
       "  'seasons': 12,\n",
       "  'appearances': 89,\n",
       "  'goals': 42},\n",
       " {'name': 'Sergio Agüero', 'seasons': 13, 'appearances': 79, 'goals': 41},\n",
       " {'name': 'Antoine Griezmann', 'seasons': 12, 'appearances': 101, 'goals': 40},\n",
       " {'name': 'Ferenc Puskás', 'seasons': 9, 'appearances': 41, 'goals': 36},\n",
       " {'name': 'Edinson Cavani', 'seasons': 10, 'appearances': 70, 'goals': 35},\n",
       " {'name': 'Harry Kane', 'seasons': 7, 'appearances': 49, 'goals': 34},\n",
       " {'name': 'Gerd Müller', 'seasons': 6, 'appearances': 35, 'goals': 34}]"
      ]
     },
     "execution_count": 56,
     "metadata": {},
     "output_type": "execute_result"
    }
   ],
   "source": [
    "data = getTopPlayers()\n",
    "data"
   ]
  },
  {
   "cell_type": "markdown",
   "metadata": {},
   "source": [
    "Now we can create a dataframe for the retrieved data, which we can then store as a .csv file."
   ]
  },
  {
   "cell_type": "code",
   "execution_count": 188,
   "metadata": {},
   "outputs": [],
   "source": [
    "def createDataframe(list):\n",
    "    \"\"\"\n",
    "    Creates a dataframe for the all time uefa cl top scorers list.\n",
    "\n",
    "    Args:\n",
    "        list: top scorer list\n",
    "    \n",
    "    Returns:\n",
    "        df: converted dataframe.\n",
    "    \"\"\"\n",
    "    rows = []\n",
    "    for player in list:\n",
    "        row = {\n",
    "            'name': player['name'],\n",
    "            'seasons': player['seasons'],\n",
    "            'appearances': player['appearances'],\n",
    "            'goals': player['goals']\n",
    "        }\n",
    "        rows.append(row)\n",
    "\n",
    "    df = pd.DataFrame(rows)\n",
    "    print(\"Dataframes successfully created.\")\n",
    "    return df\n"
   ]
  },
  {
   "cell_type": "code",
   "execution_count": 191,
   "metadata": {},
   "outputs": [
    {
     "name": "stdout",
     "output_type": "stream",
     "text": [
      "Dataframes successfully created.\n"
     ]
    }
   ],
   "source": [
    "# Create dataframes to be saved\n",
    "df = createDataframe(data)"
   ]
  },
  {
   "cell_type": "code",
   "execution_count": 192,
   "metadata": {},
   "outputs": [
    {
     "name": "stdout",
     "output_type": "stream",
     "text": [
      "Folder already exists\n"
     ]
    }
   ],
   "source": [
    "# store data\n",
    "folder_name = \"data\"\n",
    "try:\n",
    "    os.makedirs(folder_name, exist_ok=False)\n",
    "    print(\"Folder created for storing goal data\")\n",
    "except Exception:\n",
    "    print(\"Folder already exists\")\n",
    "\n",
    "\n",
    "df.to_csv('./data/' + \"laliga_top_scorer.csv\", index=False, encoding=\"utf-8\")"
   ]
  }
 ],
 "metadata": {
  "kernelspec": {
   "display_name": "Python 3",
   "language": "python",
   "name": "python3"
  },
  "language_info": {
   "codemirror_mode": {
    "name": "ipython",
    "version": 3
   },
   "file_extension": ".py",
   "mimetype": "text/x-python",
   "name": "python",
   "nbconvert_exporter": "python",
   "pygments_lexer": "ipython3",
   "version": "3.11.2"
  }
 },
 "nbformat": 4,
 "nbformat_minor": 2
}
