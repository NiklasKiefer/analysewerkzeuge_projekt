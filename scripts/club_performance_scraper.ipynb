{
 "cells": [
  {
   "cell_type": "markdown",
   "metadata": {},
   "source": [
    "# Data Acquisition for Performance Data from Transfermarkt"
   ]
  },
  {
   "cell_type": "markdown",
   "metadata": {},
   "source": [
    "This notebook demonstrates how performance  data for a players career is scraped from [Transfermarkt](https://www.transfermarkt.com/) using BeautifulSoup and Selenium. It is used to retreive all performance data for the players Lionel Messi & Christiano Ronaldo from the following pages:\n",
    "\n",
    "- [Lionel Messi Club Performance Data](https://www.transfermarkt.at/lionel-messi/detaillierteleistungsdaten/spieler/28003/plus/1)\n",
    "- [Christiano Ronaldo Club Performance Data](https://www.transfermarkt.at/cristiano-ronaldo/detaillierteleistungsdaten/spieler/8198/plus/1)"
   ]
  },
  {
   "cell_type": "code",
   "execution_count": 190,
   "metadata": {},
   "outputs": [],
   "source": [
    "import requests \n",
    "from bs4 import BeautifulSoup\n",
    "import pandas as pd\n",
    "import re\n",
    "import os"
   ]
  },
  {
   "cell_type": "code",
   "execution_count": 191,
   "metadata": {},
   "outputs": [],
   "source": [
    "# Header used to perform http request data from web server.\n",
    "headers = {'User-Agent': 'Mozilla/5.0 (X11; Linux x86_64} AppleWebKit/537.36 (KHTML, like Gecko) Chrome/47.0.2526.106 Safari/537.36'}"
   ]
  },
  {
   "cell_type": "markdown",
   "metadata": {},
   "source": [
    "The structure of the performance data table looks as follows:\n",
    "```\n",
    "{\n",
    "    \"saison\",\n",
    "    \"competition_type\",\n",
    "    \"competition\",\n",
    "    \"club\",\n",
    "    \"games_played\",\n",
    "    \"goals\",\n",
    "    \"assists\",\n",
    "    \"owngoals\",\n",
    "    \"substitute_in_amount\",\n",
    "    \"substitute_out_amount\",\n",
    "    \"yellow_cards\",\n",
    "    \"yellow_red_cards\",\n",
    "    \"red_cards\",\n",
    "    \"penalties\",\n",
    "    \"minutes_played\"\n",
    "}\n",
    "```"
   ]
  },
  {
   "cell_type": "code",
   "execution_count": 192,
   "metadata": {},
   "outputs": [],
   "source": [
    "# this function takes a row from the games played and fetches all relevant game performance data.\n",
    "def getGameData(table_row):\n",
    "    game_data = { }\n",
    "\n",
    "    # get saison if there is one\n",
    "    saison_tag = table_row.find_next(\"td\")\n",
    "    if (saison_tag):\n",
    "        game_data[\"saison\"] = saison_tag.text.strip()\n",
    "\n",
    "    # get competition where player played\n",
    "    competition_tag = saison_tag.find_next(\"img\")\n",
    "    if (competition_tag):   \n",
    "        game_data[\"competition\"] = competition_tag.get(\"title\", \"No title available\")\n",
    "\n",
    "        \n",
    "    # get club where player played\n",
    "    club_tag = competition_tag.find_next(\"img\")\n",
    "    if (club_tag):\n",
    "        game_data[\"club\"] = club_tag.get(\"alt\", \"no alt available\")\n",
    "\n",
    "    # get games played in competition in a season\n",
    "    games_tag = club_tag.find_next(\"td\")\n",
    "    if (games_tag):\n",
    "        game_data[\"games_played\"] = games_tag.text.strip()\n",
    "        if (game_data[\"games_played\"] == \"-\"):\n",
    "            game_data[\"games_played\"] = 0\n",
    "    \n",
    "    # get goals in competition for row\n",
    "    goals_tag = games_tag.find_next(\"td\")\n",
    "    if (goals_tag):\n",
    "        game_data[\"goals\"] = goals_tag.text.strip()\n",
    "        if (game_data[\"goals\"] == \"-\"):\n",
    "            game_data[\"goals\"] = 0\n",
    "    \n",
    "    # get assists by player\n",
    "    assists_tag = goals_tag.find_next(\"td\")\n",
    "    if (assists_tag):\n",
    "        game_data[\"assists\"] = assists_tag.text.strip()\n",
    "        if (game_data[\"assists\"] == \"-\"):\n",
    "            game_data[\"assists\"] = 0\n",
    "            \n",
    "    # get owngoals in competition for row\n",
    "    owngoals_tag = assists_tag.find_next(\"td\")\n",
    "    if (owngoals_tag):\n",
    "        game_data[\"owngoals\"] = owngoals_tag.text.strip()\n",
    "        if (game_data[\"owngoals\"] == \"-\"):\n",
    "            game_data[\"owngoals\"] = 0\n",
    "    \n",
    "    # get amount of substitute in for player\n",
    "    subst_in_tag = owngoals_tag.find_next(\"td\")\n",
    "    if (subst_in_tag):\n",
    "        game_data[\"substitute_in\"] = subst_in_tag.text.strip()\n",
    "        if (game_data[\"substitute_in\"] == \"-\"):\n",
    "            game_data[\"substitute_in\"] = 0\n",
    "\n",
    "    # get amount of substitute out for player\n",
    "    subst_out_tag = subst_in_tag.find_next(\"td\")\n",
    "    if (subst_out_tag):\n",
    "        game_data[\"substitute_out\"] = subst_out_tag.text.strip()\n",
    "        if (game_data[\"substitute_out\"] == \"-\"):\n",
    "            game_data[\"substitute_out\"] = 0\n",
    "\n",
    "    # get amount of yellow cards for player\n",
    "    yellow_tag = subst_out_tag.find_next(\"td\")\n",
    "    if (yellow_tag):\n",
    "        game_data[\"yellow_cards\"] = yellow_tag.text.strip()\n",
    "        if (game_data[\"yellow_cards\"] == \"-\"):\n",
    "            game_data[\"yellow_cards\"] = 0\n",
    "\n",
    "    # get amount of yellow red out for player\n",
    "    yellow_red_tag = yellow_tag.find_next(\"td\")\n",
    "    if (yellow_red_tag):\n",
    "        game_data[\"yellow_red_cards\"] = yellow_red_tag.text.strip()\n",
    "        if (game_data[\"yellow_red_cards\"] == \"-\"):\n",
    "            game_data[\"yellow_red_cards\"] = 0\n",
    "\n",
    "     # get amount of straight red cards for player\n",
    "    red_cards_tag = yellow_red_tag.find_next(\"td\")\n",
    "    if (red_cards_tag):\n",
    "        game_data[\"red_cards\"] = red_cards_tag.text.strip()\n",
    "        if (game_data[\"red_cards\"] == \"-\"):\n",
    "            game_data[\"red_cards\"] = 0\n",
    "\n",
    "    # get penalty amount \n",
    "    penalties_tag = red_cards_tag.find_next(\"td\")\n",
    "    if (penalties_tag):\n",
    "        game_data[\"penalties\"] = penalties_tag.text.strip()\n",
    "        if (game_data[\"penalties\"] == \"-\"):\n",
    "            game_data[\"penalties\"] = 0\n",
    "    \n",
    "    # get minutes playded\n",
    "    minutes_tag = penalties_tag.find_next(\"td\").find_next(\"td\")\n",
    "    if (minutes_tag):\n",
    "        game_data[\"minutes_played\"] = minutes_tag.text.strip()\n",
    "        if (game_data[\"minutes_played\"] == \"-\"):\n",
    "            game_data[\"minutes_played\"] = 0\n",
    "\n",
    "    return game_data"
   ]
  },
  {
   "cell_type": "code",
   "execution_count": 193,
   "metadata": {},
   "outputs": [],
   "source": [
    "def getAllClubPerformances(page):\n",
    "    pageTree = requests.get(page, headers=headers)\n",
    "    pageSoup = BeautifulSoup(pageTree.content, 'html.parser')\n",
    "    gamesList = []\n",
    "    # get tables of national liga, national cup and international cup data.\n",
    "    tables = pageSoup.find_all(\"table\")\n",
    "    # get competition type names\n",
    "    htwos = pageSoup.find_all(\"h2\", class_=\"content-box-headline\")\n",
    "    competition_type_names = [h2.text.strip() for h2 in htwos[1:]]\n",
    "\n",
    "\n",
    "    for table_id in range(len(tables)):\n",
    "        rows = tables[table_id].find_all(\"tr\")\n",
    "        # iterate over rows, but exclude first two rows that are the header and total sum\n",
    "        for row_id in range(2, len(rows)):\n",
    "            game = getGameData(rows[row_id])\n",
    "            game[\"competition_type\"] = competition_type_names[table_id]\n",
    "            gamesList.append(game)\n",
    "            \n",
    "    return gamesList\n"
   ]
  },
  {
   "cell_type": "code",
   "execution_count": 194,
   "metadata": {},
   "outputs": [],
   "source": [
    "page_messi = \"https://www.transfermarkt.at/lionel-messi/detaillierteleistungsdaten/spieler/28003/plus/1\"\n",
    "messi_stats = getAllClubPerformances(page_messi)\n",
    "\n",
    "page_ronaldo= \"https://www.transfermarkt.at/cristiano-ronaldo/detaillierteleistungsdaten/spieler/8198/plus/1\"\n",
    "ronaldo_stats = getAllClubPerformances(page_ronaldo)"
   ]
  },
  {
   "cell_type": "code",
   "execution_count": 195,
   "metadata": {},
   "outputs": [],
   "source": [
    "# Creates a dataframe using the specified data structure for each club game played by the player.\n",
    "def createDataFrameFromGames(gamesList):\n",
    "    # store goals list in dataframe\n",
    "    rows = []\n",
    "    for game in gamesList:\n",
    "        row = {\n",
    "            'saison': game[\"saison\"],\n",
    "            'competition_type': game['competition_type'],\n",
    "            'competition': game['competition'],\n",
    "            'club': game['club'],\n",
    "            'games_played': game['games_played'],\n",
    "            'goals': game['goals'],\n",
    "            'assists': game['assists'],\n",
    "            'owngoals': game['owngoals'],\n",
    "            'substitute_in': game['substitute_in'],\n",
    "            'substitute_out': game['substitute_out'],\n",
    "            'yellow_cards': game['yellow_cards'],\n",
    "            'yellow_red_cards': game['yellow_red_cards'],\n",
    "            'red_cards': game['red_cards'],\n",
    "            'penalties': game['penalties'],\n",
    "            'minutes_played': game['minutes_played']\n",
    "        }\n",
    "        rows.append(row)\n",
    "\n",
    "    df = pd.DataFrame(rows)\n",
    "    print(\"Dataframes successfully created.\")\n",
    "    return df\n"
   ]
  },
  {
   "cell_type": "code",
   "execution_count": 196,
   "metadata": {},
   "outputs": [
    {
     "name": "stdout",
     "output_type": "stream",
     "text": [
      "Dataframes successfully created.\n",
      "Dataframes successfully created.\n"
     ]
    }
   ],
   "source": [
    "# Create dataframes to be saved\n",
    "df_messi = createDataFrameFromGames(messi_stats)\n",
    "df_ronaldo = createDataFrameFromGames(ronaldo_stats)"
   ]
  },
  {
   "cell_type": "code",
   "execution_count": 197,
   "metadata": {},
   "outputs": [],
   "source": [
    "# Combine the datasets\n",
    "df_messi[\"player_name\"] = \"Lionel Messi\"\n",
    "df_ronaldo[\"player_name\"] = \"Christiano Ronaldo\"\n",
    "\n",
    "# set player name as first column\n",
    "df = pd.concat([df_messi, df_ronaldo], ignore_index=True)\n",
    "columns = ['player_name'] + [col for col in df.columns if col != 'player_name']\n",
    "df = df[columns]"
   ]
  },
  {
   "cell_type": "code",
   "execution_count": 198,
   "metadata": {},
   "outputs": [
    {
     "name": "stdout",
     "output_type": "stream",
     "text": [
      "Folder already exists\n"
     ]
    }
   ],
   "source": [
    "# store data\n",
    "folder_name = \"data\"\n",
    "try:\n",
    "    os.makedirs(folder_name, exist_ok=False)\n",
    "    print(\"Folder created for storing goal data\")\n",
    "except Exception:\n",
    "    print(\"Folder already exists\")\n",
    "\n",
    "df.to_csv('./data/' + \"player_club_performance.csv\", index=False, encoding=\"utf-8\")"
   ]
  }
 ],
 "metadata": {
  "kernelspec": {
   "display_name": "Python 3",
   "language": "python",
   "name": "python3"
  },
  "language_info": {
   "codemirror_mode": {
    "name": "ipython",
    "version": 3
   },
   "file_extension": ".py",
   "mimetype": "text/x-python",
   "name": "python",
   "nbconvert_exporter": "python",
   "pygments_lexer": "ipython3",
   "version": "3.11.2"
  }
 },
 "nbformat": 4,
 "nbformat_minor": 2
}
