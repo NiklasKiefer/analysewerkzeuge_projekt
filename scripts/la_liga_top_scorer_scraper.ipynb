{
 "cells": [
  {
   "cell_type": "markdown",
   "metadata": {},
   "source": [
    "# Data Acquisition of Best La Liga Scorer Data from Transfermarkt"
   ]
  },
  {
   "cell_type": "markdown",
   "metadata": {},
   "source": [
    "This notebook demonstrates how the best goal scorer data is scraped from [Transfermarkt](https://www.transfermarkt.com)\n",
    "\n",
    "- [Best Goal Scorers of La Liga](https://www.transfermarkt.at/laliga/ewigetorschuetzen/wettbewerb/ES1)"
   ]
  },
  {
   "cell_type": "code",
   "execution_count": 8,
   "metadata": {},
   "outputs": [],
   "source": [
    "import requests \n",
    "from bs4 import BeautifulSoup\n",
    "import pandas as pd\n",
    "import re\n",
    "import os"
   ]
  },
  {
   "cell_type": "code",
   "execution_count": 11,
   "metadata": {},
   "outputs": [],
   "source": [
    "# Header used to perform http request data from web server.\n",
    "headers = {'User-Agent': 'Mozilla/5.0 (X11; Linux x86_64} AppleWebKit/537.36 (KHTML, like Gecko) Chrome/47.0.2526.106 Safari/537.36'}"
   ]
  },
  {
   "cell_type": "markdown",
   "metadata": {},
   "source": [
    "This is the structure of the top scorer table:\n",
    "\n",
    "```\n",
    "{\n",
    "    name,\n",
    "    appearances,\n",
    "    minutes_played,\n",
    "    goals\n",
    "}\n",
    "```\n",
    "\n",
    "The first step is to create a function that reads a row of the la liga top scorer data as well as a function that scrapes all rows from a page."
   ]
  },
  {
   "cell_type": "code",
   "execution_count": 186,
   "metadata": {},
   "outputs": [],
   "source": [
    "def getRowData(row):\n",
    "    \"\"\"\n",
    "    This function parses the data from a single row of the la liga top scorer table.\n",
    "\n",
    "    Args:\n",
    "        row: Table row\n",
    "    \n",
    "    Returns:\n",
    "        player: Information about the player in the la liga top scorer list.\n",
    "    \"\"\"\n",
    "    player = {}\n",
    "\n",
    "    #get player name\n",
    "    name_tag = row.find_next(\"a\")\n",
    "    if (name_tag):\n",
    "        player[\"name\"] = name_tag.get(\"title\", \"No title available\")\n",
    "\n",
    "\n",
    "    club_tag = name_tag.find_next(\"a\") # only used to find next tag\n",
    "\n",
    "    # get appearances\n",
    "    appearance_tag = club_tag.find_next(\"a\")\n",
    "    if (appearance_tag):\n",
    "        player[\"appearances\"] = int(appearance_tag.text.strip())\n",
    "\n",
    "    # get minutes played\n",
    "    minutes_tag = appearance_tag.find_next(\"td\")\n",
    "    if (minutes_tag):\n",
    "        minutes = minutes_tag.text.strip().replace(\".\", \"\")\n",
    "        player[\"minutes_played\"] = int(minutes)\n",
    "\n",
    "    # get goal amount\n",
    "    minutes_per_goal_tag = minutes_tag.find_next(\"td\")\n",
    "    if (not minutes_per_goal_tag):\n",
    "        return\n",
    "    goals_tag = minutes_per_goal_tag.find_next(\"td\")\n",
    "    if (goals_tag):\n",
    "        player[\"goals\"] = int(goals_tag.text.strip())\n",
    "\n",
    "    return player"
   ]
  },
  {
   "cell_type": "code",
   "execution_count": 184,
   "metadata": {},
   "outputs": [],
   "source": [
    "def getTopPlayers():\n",
    "    \"\"\"\n",
    "    This function scrapes the table data from the la liga top screres page of transfermarkt.\n",
    "    \n",
    "    Returns:\n",
    "        top_players: Information about the top scoring players in la liga.\n",
    "    \"\"\"\n",
    "    page = \"https://www.transfermarkt.at/laliga/ewigetorschuetzen/wettbewerb/ES1\"\n",
    "\n",
    "    pageTree = requests.get(page, headers=headers)\n",
    "    pageSoup = BeautifulSoup(pageTree.content, 'html.parser')\n",
    "    top_players = []\n",
    "    table = pageSoup.find(\"table\", class_=\"items\")\n",
    "    if not table:\n",
    "        return None\n",
    "    tbody = table.find_next(\"tbody\")\n",
    "    if not tbody:\n",
    "        return None\n",
    "\n",
    "    rows = tbody.contents\n",
    "\n",
    "    for row in rows[1::2]:  # No iterations because the slice is empty\n",
    "        player = getRowData(row)\n",
    "        top_players.append(player)\n",
    "    \n",
    "    return top_players\n"
   ]
  },
  {
   "cell_type": "code",
   "execution_count": null,
   "metadata": {},
   "outputs": [],
   "source": [
    "# fetch data from transfermarkt.\n",
    "data = getTopPlayers()"
   ]
  },
  {
   "cell_type": "code",
   "execution_count": 188,
   "metadata": {},
   "outputs": [],
   "source": [
    "# Creates a dataframe using the specified data structure for top scorers\n",
    "def createDataframe(list):\n",
    "    \"\"\"\n",
    "    Creates a dataframe from the la ligas top scrorer list.\n",
    "    Args:\n",
    "        gamesList: List representing the top scorers of la liga.\n",
    "    \n",
    "    Returns:\n",
    "        df: dataframe containing the data.\n",
    "    \"\"\"\n",
    "    rows = []\n",
    "    for player in list:\n",
    "        row = {\n",
    "            'name': player['name'],\n",
    "            'appearances': player['appearances'],\n",
    "            'minutes_played': player['minutes_played'],\n",
    "            'goals': player['goals']\n",
    "        }\n",
    "        rows.append(row)\n",
    "\n",
    "    df = pd.DataFrame(rows)\n",
    "    print(\"Dataframes successfully created.\")\n",
    "    return df\n"
   ]
  },
  {
   "cell_type": "markdown",
   "metadata": {},
   "source": [
    "Now we can store the data in a dataframe and save it as a .csv file."
   ]
  },
  {
   "cell_type": "code",
   "execution_count": 191,
   "metadata": {},
   "outputs": [
    {
     "name": "stdout",
     "output_type": "stream",
     "text": [
      "Dataframes successfully created.\n"
     ]
    }
   ],
   "source": [
    "# Create dataframes to be saved\n",
    "df = createDataframe(data)"
   ]
  },
  {
   "cell_type": "code",
   "execution_count": 192,
   "metadata": {},
   "outputs": [
    {
     "name": "stdout",
     "output_type": "stream",
     "text": [
      "Folder already exists\n"
     ]
    }
   ],
   "source": [
    "# store data\n",
    "folder_name = \"data\"\n",
    "try:\n",
    "    os.makedirs(folder_name, exist_ok=False)\n",
    "    print(\"Folder created for storing goal data\")\n",
    "except Exception:\n",
    "    print(\"Folder already exists\")\n",
    "\n",
    "\n",
    "df.to_csv('./data/' + \"laliga_top_scorer.csv\", index=False, encoding=\"utf-8\")"
   ]
  }
 ],
 "metadata": {
  "kernelspec": {
   "display_name": "Python 3",
   "language": "python",
   "name": "python3"
  },
  "language_info": {
   "codemirror_mode": {
    "name": "ipython",
    "version": 3
   },
   "file_extension": ".py",
   "mimetype": "text/x-python",
   "name": "python",
   "nbconvert_exporter": "python",
   "pygments_lexer": "ipython3",
   "version": "3.11.2"
  }
 },
 "nbformat": 4,
 "nbformat_minor": 2
}
