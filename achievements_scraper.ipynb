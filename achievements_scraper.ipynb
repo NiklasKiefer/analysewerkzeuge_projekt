{
 "cells": [
  {
   "cell_type": "markdown",
   "metadata": {},
   "source": [
    "# Data Acquisition of Achievement Data from Transfermarkt"
   ]
  },
  {
   "cell_type": "markdown",
   "metadata": {},
   "source": [
    "This notebook demonstrates how achievement  data for a players career is scraped from [Transfermarkt](https://www.transfermarkt.com/) using BeautifulSoup and Selenium. It is used to retreive all achievement data for the players Lionel Messi & Christiano Ronaldo from the following pages:\n",
    "\n",
    "- [Lionel Messi Achievement Data](https://www.transfermarkt.at/lionel-messi/erfolge/spieler/28003)\n",
    "- [Christiano Ronaldo Achievement Data](https://www.transfermarkt.at/cristiano-ronaldo/erfolge/spieler/8198)"
   ]
  },
  {
   "cell_type": "code",
   "execution_count": 2,
   "metadata": {},
   "outputs": [],
   "source": [
    "import requests \n",
    "from bs4 import BeautifulSoup\n",
    "import pandas as pd\n",
    "import re\n",
    "import os"
   ]
  },
  {
   "cell_type": "code",
   "execution_count": 3,
   "metadata": {},
   "outputs": [],
   "source": [
    "# Header used to perform http request data from web server.\n",
    "headers = {'User-Agent': 'Mozilla/5.0 (X11; Linux x86_64} AppleWebKit/537.36 (KHTML, like Gecko) Chrome/47.0.2526.106 Safari/537.36'}"
   ]
  },
  {
   "cell_type": "markdown",
   "metadata": {},
   "source": [
    "the structure for the achievements table looks as follows:\n",
    "\n",
    "```\n",
    "{\n",
    "    year,\n",
    "    title,\n",
    "    team\n",
    "}\n",
    "```"
   ]
  },
  {
   "cell_type": "code",
   "execution_count": 119,
   "metadata": {},
   "outputs": [],
   "source": [
    "# this function takes a row from the table and returns a structured representation of the row data.\n",
    "def getTitleData(table_row):\n",
    "    title_data = { }\n",
    "\n",
    "    tds = table_row.find_all(\"td\")\n",
    "    if (len(tds) == 1):\n",
    "        title_data[\"year\"] = tds[0].text.strip()\n",
    "        title_data[\"team\"] = None\n",
    "        return title_data\n",
    "    elif (len(tds) != 3):\n",
    "        print(\"Invalid length for table column amount within a row\")\n",
    "        return title_data\n",
    "\n",
    "    # get year\n",
    "    year_tag = tds[0]\n",
    "    title_data[\"year\"] = year_tag.text.strip()\n",
    "\n",
    "    # get team \n",
    "    team_tag = tds[1].find_next(\"img\")\n",
    "    if (team_tag):\n",
    "        title_data[\"team\"] = team_tag.get(\"alt\", \"No teamname available\")\n",
    "    else:\n",
    "        title_data[\"team\"] = \"No teamname available\"\n",
    "\n",
    "    return title_data\n"
   ]
  },
  {
   "cell_type": "code",
   "execution_count": 122,
   "metadata": {},
   "outputs": [],
   "source": [
    "def getAllAchievements(page):\n",
    "    pageTree = requests.get(page, headers=headers)\n",
    "    pageSoup = BeautifulSoup(pageTree.content, 'html.parser')\n",
    "    titleList = []\n",
    "    htwos = pageSoup.find_all(\"h2\", string=\"\\n                    Alle Titel                \")\n",
    "    if (len(htwos) < 1):\n",
    "        print(\"Could not find all trophies table\")\n",
    "\n",
    "    rows = htwos[0].find_next(\"tbody\").find_all(\"tr\")\n",
    "\n",
    "    current_title_name = None # some tr elements represent table title names, there\n",
    "    # iterate over rows, but exclude first two rows that are the header and total sum\n",
    "    for row_id in range(len(rows)):\n",
    "        # if row is current table header, change current title name\n",
    "        if (rows[row_id].find_next(\"td\").get(\"class\", \"no class available\")[0] == \"hauptlink\"):\n",
    "            current_title_name = rows[row_id].find_next(\"td\").text.strip()\n",
    "            current_title_name = re.sub(r'\\d+x ', '', current_title_name)\n",
    "        else:\n",
    "            # in this case the row is a won title which is stored \n",
    "            title = getTitleData(rows[row_id])\n",
    "            title[\"title\"] = current_title_name\n",
    "            titleList.append(title)\n",
    "    \n",
    "    return titleList\n"
   ]
  },
  {
   "cell_type": "code",
   "execution_count": 123,
   "metadata": {},
   "outputs": [],
   "source": [
    "page_messi = \"https://www.transfermarkt.at/lionel-messi/erfolge/spieler/28003\"\n",
    "messi_data = getAllAchievements(page_messi)\n",
    "\n",
    "page_ronaldo = \"https://www.transfermarkt.at/cristiano-ronaldo/erfolge/spieler/8198\"\n",
    "ronaldo_data = getAllAchievements(page_ronaldo)"
   ]
  },
  {
   "cell_type": "code",
   "execution_count": 124,
   "metadata": {},
   "outputs": [],
   "source": [
    "# Creates a dataframe using the specified data structure for each title of the player.\n",
    "def createDataFrameFromTitles(titleList):\n",
    "    rows = []\n",
    "    for title in titleList:\n",
    "        row = {\n",
    "            'year': title['year'],\n",
    "            'title': title['title'],\n",
    "            'team': title['team'],\n",
    "        }\n",
    "        rows.append(row)\n",
    "\n",
    "    df = pd.DataFrame(rows)\n",
    "    print(\"Dataframes successfully created.\")\n",
    "    return df\n"
   ]
  },
  {
   "cell_type": "code",
   "execution_count": 127,
   "metadata": {},
   "outputs": [
    {
     "name": "stdout",
     "output_type": "stream",
     "text": [
      "Dataframes successfully created.\n",
      "Dataframes successfully created.\n"
     ]
    },
    {
     "data": {
      "text/html": [
       "<div>\n",
       "<style scoped>\n",
       "    .dataframe tbody tr th:only-of-type {\n",
       "        vertical-align: middle;\n",
       "    }\n",
       "\n",
       "    .dataframe tbody tr th {\n",
       "        vertical-align: top;\n",
       "    }\n",
       "\n",
       "    .dataframe thead th {\n",
       "        text-align: right;\n",
       "    }\n",
       "</style>\n",
       "<table border=\"1\" class=\"dataframe\">\n",
       "  <thead>\n",
       "    <tr style=\"text-align: right;\">\n",
       "      <th></th>\n",
       "      <th>year</th>\n",
       "      <th>title</th>\n",
       "      <th>team</th>\n",
       "    </tr>\n",
       "  </thead>\n",
       "  <tbody>\n",
       "    <tr>\n",
       "      <th>0</th>\n",
       "      <td>2016</td>\n",
       "      <td>Europameister</td>\n",
       "      <td>Portugal</td>\n",
       "    </tr>\n",
       "    <tr>\n",
       "      <th>1</th>\n",
       "      <td>2017</td>\n",
       "      <td>Weltfußballer</td>\n",
       "      <td>Real Madrid</td>\n",
       "    </tr>\n",
       "    <tr>\n",
       "      <th>2</th>\n",
       "      <td>2016</td>\n",
       "      <td>Weltfußballer</td>\n",
       "      <td>Real Madrid</td>\n",
       "    </tr>\n",
       "    <tr>\n",
       "      <th>3</th>\n",
       "      <td>2008</td>\n",
       "      <td>Weltfußballer</td>\n",
       "      <td>Manchester United</td>\n",
       "    </tr>\n",
       "    <tr>\n",
       "      <th>4</th>\n",
       "      <td>2017</td>\n",
       "      <td>Gewinner Ballon d'Or</td>\n",
       "      <td>None</td>\n",
       "    </tr>\n",
       "    <tr>\n",
       "      <th>...</th>\n",
       "      <td>...</td>\n",
       "      <td>...</td>\n",
       "      <td>...</td>\n",
       "    </tr>\n",
       "    <tr>\n",
       "      <th>150</th>\n",
       "      <td>07/08</td>\n",
       "      <td>Spieler der Saison</td>\n",
       "      <td>Manchester United</td>\n",
       "    </tr>\n",
       "    <tr>\n",
       "      <th>151</th>\n",
       "      <td>06/07</td>\n",
       "      <td>Spieler der Saison</td>\n",
       "      <td>Manchester United</td>\n",
       "    </tr>\n",
       "    <tr>\n",
       "      <th>152</th>\n",
       "      <td>2024</td>\n",
       "      <td>TM-Spieler der Saison</td>\n",
       "      <td>Saudi-Arabien</td>\n",
       "    </tr>\n",
       "    <tr>\n",
       "      <th>153</th>\n",
       "      <td>2019</td>\n",
       "      <td>TM-Spieler der Saison</td>\n",
       "      <td>Italien</td>\n",
       "    </tr>\n",
       "    <tr>\n",
       "      <th>154</th>\n",
       "      <td>2017</td>\n",
       "      <td>TM-Spieler der Saison</td>\n",
       "      <td>Spanien</td>\n",
       "    </tr>\n",
       "  </tbody>\n",
       "</table>\n",
       "<p>155 rows × 3 columns</p>\n",
       "</div>"
      ],
      "text/plain": [
       "      year                  title               team\n",
       "0     2016          Europameister           Portugal\n",
       "1     2017          Weltfußballer        Real Madrid\n",
       "2     2016          Weltfußballer        Real Madrid\n",
       "3     2008          Weltfußballer  Manchester United\n",
       "4     2017   Gewinner Ballon d'Or               None\n",
       "..     ...                    ...                ...\n",
       "150  07/08     Spieler der Saison  Manchester United\n",
       "151  06/07     Spieler der Saison  Manchester United\n",
       "152   2024  TM-Spieler der Saison      Saudi-Arabien\n",
       "153   2019  TM-Spieler der Saison            Italien\n",
       "154   2017  TM-Spieler der Saison            Spanien\n",
       "\n",
       "[155 rows x 3 columns]"
      ]
     },
     "execution_count": 127,
     "metadata": {},
     "output_type": "execute_result"
    }
   ],
   "source": [
    "# Create dataframes to be saved\n",
    "df_messi = createDataFrameFromTitles(messi_data)\n",
    "df_ronaldo = createDataFrameFromTitles(ronaldo_data)\n",
    "df_ronaldo"
   ]
  },
  {
   "cell_type": "code",
   "execution_count": 128,
   "metadata": {},
   "outputs": [
    {
     "name": "stdout",
     "output_type": "stream",
     "text": [
      "Folder already exists\n"
     ]
    }
   ],
   "source": [
    "# store data\n",
    "folder_name = \"data\"\n",
    "try:\n",
    "    os.makedirs(folder_name, exist_ok=False)\n",
    "    print(\"Folder created for storing goal data\")\n",
    "except Exception:\n",
    "    print(\"Folder already exists\")\n",
    "\n",
    "df_messi.to_csv('./data/' + \"messi_achievements.csv\", index=False, encoding=\"utf-8\")\n",
    "df_ronaldo.to_csv('./data/' + \"ronaldo_achievements.csv\", index=False, encoding=\"utf-8\")"
   ]
  }
 ],
 "metadata": {
  "kernelspec": {
   "display_name": "Python 3",
   "language": "python",
   "name": "python3"
  },
  "language_info": {
   "codemirror_mode": {
    "name": "ipython",
    "version": 3
   },
   "file_extension": ".py",
   "mimetype": "text/x-python",
   "name": "python",
   "nbconvert_exporter": "python",
   "pygments_lexer": "ipython3",
   "version": "3.11.2"
  }
 },
 "nbformat": 4,
 "nbformat_minor": 2
}
