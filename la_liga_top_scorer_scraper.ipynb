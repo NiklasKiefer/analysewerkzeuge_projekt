{
 "cells": [
  {
   "cell_type": "markdown",
   "metadata": {},
   "source": [
    "# Data Acquisition of Best La Liga Scorer Data from Transfermarkt"
   ]
  },
  {
   "cell_type": "markdown",
   "metadata": {},
   "source": [
    "This notebook demonstrates how the best goal scorer data is scraped from [Transfermarkt](https://www.transfermarkt.com)\n",
    "\n",
    "- [Best Goal Scorers of La Liga](https://www.transfermarkt.at/laliga/ewigetorschuetzen/wettbewerb/ES1)"
   ]
  },
  {
   "cell_type": "code",
   "execution_count": 8,
   "metadata": {},
   "outputs": [],
   "source": [
    "import requests \n",
    "from bs4 import BeautifulSoup\n",
    "import pandas as pd\n",
    "import re\n",
    "import os"
   ]
  },
  {
   "cell_type": "code",
   "execution_count": 11,
   "metadata": {},
   "outputs": [],
   "source": [
    "# Header used to perform http request data from web server.\n",
    "headers = {'User-Agent': 'Mozilla/5.0 (X11; Linux x86_64} AppleWebKit/537.36 (KHTML, like Gecko) Chrome/47.0.2526.106 Safari/537.36'}"
   ]
  },
  {
   "cell_type": "markdown",
   "metadata": {},
   "source": [
    "This is the structure of the top scorer table:\n",
    "\n",
    "```\n",
    "{\n",
    "    name,\n",
    "    appearances,\n",
    "    minutes_played,\n",
    "    goals\n",
    "}\n",
    "```"
   ]
  },
  {
   "cell_type": "code",
   "execution_count": 186,
   "metadata": {},
   "outputs": [],
   "source": [
    "def getRowData(row):\n",
    "    player = {}\n",
    "\n",
    "    #get player name\n",
    "    name_tag = row.find_next(\"a\")\n",
    "    if (name_tag):\n",
    "        player[\"name\"] = name_tag.get(\"title\", \"No title available\")\n",
    "\n",
    "\n",
    "    club_tag = name_tag.find_next(\"a\") # only used to find next tag\n",
    "\n",
    "    # get appearances\n",
    "    appearance_tag = club_tag.find_next(\"a\")\n",
    "    if (appearance_tag):\n",
    "        player[\"appearances\"] = int(appearance_tag.text.strip())\n",
    "\n",
    "    # get minutes played\n",
    "    minutes_tag = appearance_tag.find_next(\"td\")\n",
    "    if (minutes_tag):\n",
    "        minutes = minutes_tag.text.strip().replace(\".\", \"\")\n",
    "        player[\"minutes_played\"] = int(minutes)\n",
    "\n",
    "    # get goal amount\n",
    "    minutes_per_goal_tag = minutes_tag.find_next(\"td\")\n",
    "    if (not minutes_per_goal_tag):\n",
    "        return\n",
    "    goals_tag = minutes_per_goal_tag.find_next(\"td\")\n",
    "    if (goals_tag):\n",
    "        player[\"goals\"] = int(goals_tag.text.strip())\n",
    "\n",
    "    return player"
   ]
  },
  {
   "cell_type": "code",
   "execution_count": 184,
   "metadata": {},
   "outputs": [],
   "source": [
    "def getTopPlayers(page):\n",
    "    pageTree = requests.get(page, headers=headers)\n",
    "    pageSoup = BeautifulSoup(pageTree.content, 'html.parser')\n",
    "    top_players = []\n",
    "    table = pageSoup.find(\"table\", class_=\"items\")\n",
    "    if not table:\n",
    "        return None\n",
    "    tbody = table.find_next(\"tbody\")\n",
    "    if not tbody:\n",
    "        return None\n",
    "\n",
    "    rows = tbody.contents\n",
    "\n",
    "    for row in rows[1::2]:  # No iterations because the slice is empty\n",
    "        player = getRowData(row)\n",
    "        top_players.append(player)\n",
    "    \n",
    "    return top_players\n"
   ]
  },
  {
   "cell_type": "code",
   "execution_count": 187,
   "metadata": {},
   "outputs": [
    {
     "data": {
      "text/plain": [
       "[{'name': 'Lionel Messi',\n",
       "  'appearances': 520,\n",
       "  'minutes_played': 42148,\n",
       "  'goals': 474},\n",
       " {'name': 'Cristiano Ronaldo',\n",
       "  'appearances': 292,\n",
       "  'minutes_played': 25113,\n",
       "  'goals': 311},\n",
       " {'name': 'Telmo Zarra',\n",
       "  'appearances': 277,\n",
       "  'minutes_played': 24895,\n",
       "  'goals': 254},\n",
       " {'name': 'Karim Benzema',\n",
       "  'appearances': 439,\n",
       "  'minutes_played': 32047,\n",
       "  'goals': 238},\n",
       " {'name': 'Hugo Sánchez',\n",
       "  'appearances': 347,\n",
       "  'minutes_played': 30310,\n",
       "  'goals': 234},\n",
       " {'name': 'Raúl', 'appearances': 550, 'minutes_played': 44079, 'goals': 228},\n",
       " {'name': 'Alfredo di Stéfano',\n",
       "  'appearances': 329,\n",
       "  'minutes_played': 29561,\n",
       "  'goals': 227},\n",
       " {'name': 'César Rodríguez',\n",
       "  'appearances': 349,\n",
       "  'minutes_played': 31410,\n",
       "  'goals': 221},\n",
       " {'name': 'Quini', 'appearances': 448, 'minutes_played': 35815, 'goals': 219},\n",
       " {'name': 'Pahiño', 'appearances': 278, 'minutes_played': 24925, 'goals': 214},\n",
       " {'name': 'Antoine Griezmann',\n",
       "  'appearances': 507,\n",
       "  'minutes_played': 39051,\n",
       "  'goals': 197},\n",
       " {'name': 'Mundo', 'appearances': 229, 'minutes_played': 20595, 'goals': 195},\n",
       " {'name': 'Santillana',\n",
       "  'appearances': 461,\n",
       "  'minutes_played': 36135,\n",
       "  'goals': 186},\n",
       " {'name': 'David Villa',\n",
       "  'appearances': 352,\n",
       "  'minutes_played': 27197,\n",
       "  'goals': 185},\n",
       " {'name': 'Guillermo Gorostiza',\n",
       "  'appearances': 255,\n",
       "  'minutes_played': 22950,\n",
       "  'goals': 183},\n",
       " {'name': 'Luis Suárez',\n",
       "  'appearances': 258,\n",
       "  'minutes_played': 20288,\n",
       "  'goals': 176},\n",
       " {'name': \"Samuel Eto'o\",\n",
       "  'appearances': 277,\n",
       "  'minutes_played': 23016,\n",
       "  'goals': 162},\n",
       " {'name': 'Iago Aspas',\n",
       "  'appearances': 373,\n",
       "  'minutes_played': 29462,\n",
       "  'goals': 161},\n",
       " {'name': 'Luis Aragonés',\n",
       "  'appearances': 344,\n",
       "  'minutes_played': 29963,\n",
       "  'goals': 160},\n",
       " {'name': 'Aritz Aduriz',\n",
       "  'appearances': 440,\n",
       "  'minutes_played': 30246,\n",
       "  'goals': 158},\n",
       " {'name': 'Ferenc Puskás',\n",
       "  'appearances': 180,\n",
       "  'minutes_played': 16175,\n",
       "  'goals': 156},\n",
       " {'name': 'Julio Salinas',\n",
       "  'appearances': 411,\n",
       "  'minutes_played': 27106,\n",
       "  'goals': 152},\n",
       " {'name': 'Raúl Tamudo',\n",
       "  'appearances': 397,\n",
       "  'minutes_played': 28816,\n",
       "  'goals': 146},\n",
       " {'name': 'José Mari Bakero',\n",
       "  'appearances': 454,\n",
       "  'minutes_played': 35595,\n",
       "  'goals': 139},\n",
       " {'name': 'László Kubala',\n",
       "  'appearances': 215,\n",
       "  'minutes_played': 19285,\n",
       "  'goals': 138}]"
      ]
     },
     "execution_count": 187,
     "metadata": {},
     "output_type": "execute_result"
    }
   ],
   "source": [
    "page = \"https://www.transfermarkt.at/laliga/ewigetorschuetzen/wettbewerb/ES1\"\n",
    "data = getTopPlayers(page)"
   ]
  },
  {
   "cell_type": "code",
   "execution_count": 188,
   "metadata": {},
   "outputs": [],
   "source": [
    "# Creates a dataframe using the specified data structure for top scorers\n",
    "def createDataframe(list):\n",
    "    rows = []\n",
    "    for player in list:\n",
    "        row = {\n",
    "            'name': player['name'],\n",
    "            'appearances': player['appearances'],\n",
    "            'minutes_played': player['minutes_played'],\n",
    "            'goals': player['goals']\n",
    "        }\n",
    "        rows.append(row)\n",
    "\n",
    "    df = pd.DataFrame(rows)\n",
    "    print(\"Dataframes successfully created.\")\n",
    "    return df\n"
   ]
  },
  {
   "cell_type": "code",
   "execution_count": 191,
   "metadata": {},
   "outputs": [
    {
     "name": "stdout",
     "output_type": "stream",
     "text": [
      "Dataframes successfully created.\n"
     ]
    }
   ],
   "source": [
    "# Create dataframes to be saved\n",
    "df = createDataframe(data)"
   ]
  },
  {
   "cell_type": "code",
   "execution_count": 192,
   "metadata": {},
   "outputs": [
    {
     "name": "stdout",
     "output_type": "stream",
     "text": [
      "Folder already exists\n"
     ]
    }
   ],
   "source": [
    "# store data\n",
    "folder_name = \"data\"\n",
    "try:\n",
    "    os.makedirs(folder_name, exist_ok=False)\n",
    "    print(\"Folder created for storing goal data\")\n",
    "except Exception:\n",
    "    print(\"Folder already exists\")\n",
    "\n",
    "\n",
    "df.to_csv('./data/' + \"laliga_top_scorer.csv\", index=False, encoding=\"utf-8\")"
   ]
  }
 ],
 "metadata": {
  "kernelspec": {
   "display_name": "Python 3",
   "language": "python",
   "name": "python3"
  },
  "language_info": {
   "codemirror_mode": {
    "name": "ipython",
    "version": 3
   },
   "file_extension": ".py",
   "mimetype": "text/x-python",
   "name": "python",
   "nbconvert_exporter": "python",
   "pygments_lexer": "ipython3",
   "version": "3.11.2"
  }
 },
 "nbformat": 4,
 "nbformat_minor": 2
}
